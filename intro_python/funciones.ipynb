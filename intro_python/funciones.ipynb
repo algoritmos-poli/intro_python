{
 "cells": [
  {
   "cell_type": "markdown",
   "metadata": {},
   "source": [
    "[![Open In Colab](https://colab.research.google.com/assets/colab-badge.svg)](https://colab.research.google.com/github/algoritmos-poli/intro_python/blob/main/intro_python/funciones.ipynb)  [![Built with AI](https://img.shields.io/badge/Built%20with-AI-blue.svg)](https://shields.io/)"
   ]
  },
  {
   "cell_type": "markdown",
   "metadata": {},
   "source": [
    "# Funciones #"
   ]
  },
  {
   "cell_type": "markdown",
   "metadata": {},
   "source": [
    "## Introducción\n",
    "\n",
    "Si vienes de un entorno de programación orientada a objetos como Java o C++, ya dominas el concepto de funciones o métodos. En Python, las funciones son también el principal mecanismo para estructurar y reutilizar código, pero con particularidades que potencian su flexibilidad y poder.\n",
    "\n",
    "Este notebook no es una introducción básica. Su objetivo es acelerar tu transición, centrándose en las características \"Pythónicas\" que diferencian a las funciones en este lenguaje.\n",
    "\n",
    "Nos enfocaremos en los siguientes conceptos clave:\n",
    "* **Sintaxis y tipado dinámico**: A diferencia de la declaración estricta de tipos en Java/C++, veremos la simplicidad de la palabra clave `def` y cómo Python infiere dinámicamente los tipos de los parámetros y valores de retorno.\n",
    "* **Flexibilidad en Argumentos**: Exploraremos las capacidades avanzadas de Python para el manejo de argumentos, incluyendo valores por defecto, el uso de `*args` para tuplas de argumentos posicionales (similar a los `varargs`) y `**kwargs` para diccionarios de argumentos por palabra clave.\n",
    "* **Funciones como objetos de primer orden**: Un pilar en Python es que las funciones son objetos. Analizaremos las implicaciones de esto: cómo pueden ser asignadas a variables, pasadas como argumentos (funciones de orden superior) y retornadas por otras funciones, habilitando patrones de programación funcional.\n",
    "* **Herramientas Avanzadas**: Nos adentraremos en sintaxis avanzada como los decoradores (`@`), un patrón poderoso para extender o modificar el comportamiento de una función sin alterar su código, y las expresiones `lambda` para la creación concisa de funciones anónimas.\n",
    "\n",
    "El objetivo es que rápidamente puedas trasladar su conocimiento previo y aprovechar al máximo las ventajas que Python ofrece para escribir código limpio, modular y expresivo."
   ]
  },
  {
   "cell_type": "markdown",
   "metadata": {},
   "source": [
    "## Tabla de Contenido\n",
    "\n",
    "1.  [Definición e invocación de una función](#definición-e-invocacion-de-una-función)\n",
    "2.  [Ambito (Scope) de las variables](#ambito-scope-de-las-variables)\n",
    "3.  [Invocación de funciones y parámetros](#Sobre-la-invocación-de-las-funciones)\n",
    "    *   [Parámetros con argumentos por defecto](#Parametros-con-argumentos-por-defecto)\n",
    "    *   [Captura de múltiples argumentos (`*args`)](#captura-de-varios-argumentos-en-un-parámetro-de-tipo-tuple-args)\n",
    "    *   [Captura de argumentos por palabra clave (`**kwargs`).](#captura-de-varios-argumentos-en-un-parámetro-de-tipo-dict-kargs)\n",
    "4.  [Funciones anidadas](#funciones-anidadas)\n",
    "5.  [Funciones de orden superior](#funciones-de-orden-superior)\n",
    "6.  [Decoradores](#decoradores)\n",
    "7.  [Definición de funciones con la declaración `lambda`](#definición-de-funciones-con-la-declaración-lambda)\n",
    "\n"
   ]
  },
  {
   "cell_type": "markdown",
   "metadata": {},
   "source": [
    "## Definición e invocacion de una función ##\n",
    "\n",
    "### Definición ###\n",
    "\n",
    "```python\n",
    "def nombreFuncion(parametros,...):\n",
    "    # codigo ...\n",
    "```\n",
    "\n",
    "### Invocación ###\n",
    "\n",
    "```python\n",
    "nombreFuncion(argumentos,...)\n",
    "```\n",
    "\n",
    "### Definición minima de una función ###\n",
    "\n",
    "Una función sin codigo sacará error. En aquellos casos en los que por lo menos inicialmente no se necesita codigo se emplea la declaración **pass** para evitar este problema. La declaración pass no realiza ninguna acción, pero evita que se genere un error de indentación al crear una función vacía."
   ]
  },
  {
   "cell_type": "code",
   "execution_count": 2,
   "metadata": {},
   "outputs": [],
   "source": [
    "def funcion():    \n",
    "    pass"
   ]
  },
  {
   "cell_type": "code",
   "execution_count": 3,
   "metadata": {},
   "outputs": [],
   "source": [
    "funcion()"
   ]
  },
  {
   "cell_type": "code",
   "execution_count": 4,
   "metadata": {},
   "outputs": [
    {
     "name": "stdout",
     "output_type": "stream",
     "text": [
      "None\n"
     ]
    }
   ],
   "source": [
    "print(funcion())"
   ]
  },
  {
   "cell_type": "code",
   "execution_count": 5,
   "metadata": {},
   "outputs": [
    {
     "data": {
      "text/plain": [
       "function"
      ]
     },
     "execution_count": 5,
     "metadata": {},
     "output_type": "execute_result"
    }
   ],
   "source": [
    "type(funcion)"
   ]
  },
  {
   "cell_type": "markdown",
   "metadata": {},
   "source": [
    "**Ejemplo**: Hacer y documentar una función que imprime **Welcome to Tijuana!!!**. La documentación es el primer comentario usado despues de la cabecera."
   ]
  },
  {
   "cell_type": "code",
   "execution_count": 6,
   "metadata": {},
   "outputs": [],
   "source": [
    "# Definicion de la funcion\n",
    "def hola():\n",
    "    \"\"\"Imprime el mensaje \\\"Welcome to Tijuana\\\" \"\"\"\n",
    "    print(\"Welcome to Tijuana\")"
   ]
  },
  {
   "cell_type": "code",
   "execution_count": 7,
   "metadata": {},
   "outputs": [
    {
     "name": "stdout",
     "output_type": "stream",
     "text": [
      "Help on function hola in module __main__:\n",
      "\n",
      "hola()\n",
      "    Imprime el mensaje \"Welcome to Tijuana\"\n",
      "\n"
     ]
    }
   ],
   "source": [
    "# Visualizando la ayuda\n",
    "help(hola)"
   ]
  },
  {
   "cell_type": "code",
   "execution_count": 8,
   "metadata": {},
   "outputs": [
    {
     "name": "stdout",
     "output_type": "stream",
     "text": [
      "Welcome to Tijuana\n"
     ]
    }
   ],
   "source": [
    "# Invocano la función\n",
    "hola()"
   ]
  },
  {
   "cell_type": "markdown",
   "metadata": {},
   "source": [
    "## Ambito (Scope) de las Variables\n",
    "\n",
    "Un concepto fundamental en cualquier lenguaje es el **ámbito** o *scope*, que define la visibilidad de una variable. En Python, esto es particularmente importante debido a su naturaleza dinámica. La regla principal que sigue Python para buscar una variable es la [**regla LEGB**](https://www.datacamp.com/tutorial/scope-of-variables-python)."
   ]
  },
  {
   "cell_type": "markdown",
   "metadata": {},
   "source": [
    "### Ocultamiento de Variables (Variable Shadowing)\n",
    "\n",
    "Cuando se crea una variable dentro de una función con el mismo nombre que una variable global, la variable local tiene prioridad dentro de esa función. Este fenómeno se conoce como *ocultamiento* o *shadowing*."
   ]
  },
  {
   "cell_type": "code",
   "execution_count": 9,
   "metadata": {},
   "outputs": [
    {
     "name": "stdout",
     "output_type": "stream",
     "text": [
      "Hola\n",
      "2\n",
      "Hola\n"
     ]
    }
   ],
   "source": [
    "def funcion():\n",
    "    objeto = 2\n",
    "    print(objeto)\n",
    "\n",
    "objeto = \"Hola\"\n",
    "print(objeto)\n",
    "funcion()\n",
    "print(objeto)"
   ]
  },
  {
   "cell_type": "markdown",
   "metadata": {},
   "source": [
    "### Modificando el Ámbito Global con la palabra clave `global`\n",
    "\n",
    "Si necesitas que una función modifique una variable del ámbito global en lugar de crear una local, debes declararlo explícitamente usando la palabra clave `global`.\n",
    "\n",
    "```python\n",
    "global nombreVariable\n",
    "nombreVariable = valorVariable\n",
    "```\n",
    "\n",
    "**Advertencia**: Modificar el estado global desde una función puede hacer que el código sea más difícil de entender y depurar. Es una práctica que generalmente se debe evitar en favor de pasar variables como parámetros y retornar valores."
   ]
  },
  {
   "cell_type": "code",
   "execution_count": 10,
   "metadata": {},
   "outputs": [
    {
     "name": "stdout",
     "output_type": "stream",
     "text": [
      "Hola\n",
      "2\n",
      "2\n"
     ]
    }
   ],
   "source": [
    "def funcion():\n",
    "    global objeto\n",
    "    objeto = 2\n",
    "    print(objeto)\n",
    "\n",
    "objeto = \"Hola\"\n",
    "print(objeto)\n",
    "funcion()\n",
    "print(objeto)"
   ]
  },
  {
   "cell_type": "markdown",
   "metadata": {},
   "source": [
    "## Invocación de Funciones: Argumentos Posicionales y por Palabra Clave\n",
    "\n",
    "En Python, la forma en que pasas los argumentos a una función es muy flexible. A diferencia de lenguajes más estrictos, Python distingue entre dos tipos principales de argumentos al invocar una función:\n",
    "\n",
    "1.  **Argumentos Posicionales**: Son los argumentos que se pasan a una función en el orden en que se definieron los parámetros. La correspondencia se basa en la posición. Este es el comportamiento que probablemente ya conoces de otros lenguajes.\n",
    "\n",
    "2.  **Argumentos por Palabra Clave (Keyword Arguments)**: Puedes especificar explícitamente a qué parámetro corresponde cada argumento usando la sintaxis `parametro=valor`. Una gran ventaja de esto es que el orden deja de ser importante, lo que hace que el código sea más legible y menos propenso a errores.\n",
    "\n",
    "A continuación, veremos ejemplos que ilustran cómo funciona esto en la práctica y cómo el tipado dinámico de Python permite que una misma función, como `suma`, opere con diferentes tipos de datos (un concepto conocido como *polimorfismo*)."
   ]
  },
  {
   "cell_type": "markdown",
   "metadata": {},
   "source": [
    "**Definición**"
   ]
  },
  {
   "cell_type": "code",
   "execution_count": 11,
   "metadata": {},
   "outputs": [],
   "source": [
    "def suma(p1, p2):\n",
    "    '''Despliega la suma de dos objetos'''\n",
    "    return p1 + p2"
   ]
  },
  {
   "cell_type": "markdown",
   "metadata": {},
   "source": [
    "**Diferentes invocaciones**"
   ]
  },
  {
   "cell_type": "code",
   "execution_count": 12,
   "metadata": {},
   "outputs": [
    {
     "data": {
      "text/plain": [
       "5"
      ]
     },
     "execution_count": 12,
     "metadata": {},
     "output_type": "execute_result"
    }
   ],
   "source": [
    "r = suma(2,3)\n",
    "r"
   ]
  },
  {
   "cell_type": "code",
   "execution_count": 13,
   "metadata": {},
   "outputs": [
    {
     "data": {
      "text/plain": [
       "'23'"
      ]
     },
     "execution_count": 13,
     "metadata": {},
     "output_type": "execute_result"
    }
   ],
   "source": [
    "r = suma(\"2\",\"3\")\n",
    "r"
   ]
  },
  {
   "cell_type": "code",
   "execution_count": 14,
   "metadata": {},
   "outputs": [
    {
     "name": "stdout",
     "output_type": "stream",
     "text": [
      "Help on function suma in module __main__:\n",
      "\n",
      "suma(p1, p2)\n",
      "    Despliega la suma de dos objetos\n",
      "\n"
     ]
    }
   ],
   "source": [
    "help(suma)"
   ]
  },
  {
   "cell_type": "code",
   "execution_count": 15,
   "metadata": {},
   "outputs": [
    {
     "ename": "TypeError",
     "evalue": "suma() takes 2 positional arguments but 3 were given",
     "output_type": "error",
     "traceback": [
      "\u001b[1;31m---------------------------------------------------------------------------\u001b[0m",
      "\u001b[1;31mTypeError\u001b[0m                                 Traceback (most recent call last)",
      "Cell \u001b[1;32mIn[15], line 1\u001b[0m\n\u001b[1;32m----> 1\u001b[0m r \u001b[38;5;241m=\u001b[39m suma(\u001b[38;5;241m2\u001b[39m,\u001b[38;5;241m3\u001b[39m,\u001b[38;5;241m4\u001b[39m)\n",
      "\u001b[1;31mTypeError\u001b[0m: suma() takes 2 positional arguments but 3 were given"
     ]
    }
   ],
   "source": [
    "r = suma(2,3,4)"
   ]
  },
  {
   "cell_type": "markdown",
   "metadata": {},
   "source": [
    "## Parámetros con Argumentos por Defecto\n",
    "\n",
    "Una característica muy potente y común en Python es la capacidad de asignar valores por defecto a los parámetros de una función. Esto es similar a la sobrecarga de métodos en Java o C++, pero a menudo resulta en un código más conciso y legible, ya que no necesitas definir múltiples funciones con diferentes firmas.\n",
    "\n",
    "La sintaxis es simple: se utiliza el operador de asignación (`=`) en la definición de la función.\n",
    "\n",
    "### Reglas Clave a Recordar:\n",
    "\n",
    "1.  **Orden de los Parámetros**: Los parámetros con valores por defecto **deben ir siempre después** de los parámetros que no los tienen. Si intentas definir un parámetro posicional después de uno con valor por defecto, obtendrás un `SyntaxError`.\n",
    "\n",
    "2.  **Flexibilidad en la Invocación**: Al llamar la función, puedes omitir los argumentos que tienen un valor por defecto, y Python usará el que especificaste. También puedes seguir usando argumentos por palabra clave para mayor claridad.\n",
    "\n",
    "3.  **¡Cuidado con los Objetos Mutables!**: Un error común es usar objetos mutables (como listas `[]` o diccionarios `{}`) como valores por defecto. Estos objetos se crean **una sola vez** cuando se define la función, no cada vez que se llama. Esto puede llevar a resultados inesperados. La práctica recomendada es usar `None` como valor por defecto y crear el objeto mutable dentro de la función.\n",
    "\n",
    "A continuación, se ilustra cómo redefinir la función `suma` con valores por defecto y las distintas formas de invocarla."
   ]
  },
  {
   "cell_type": "code",
   "execution_count": 16,
   "metadata": {},
   "outputs": [],
   "source": [
    "def suma(p1 = 0, p2 = 0):\n",
    "    '''Despliega la suma de dos objetos'''\n",
    "    return p1 + p2"
   ]
  },
  {
   "cell_type": "markdown",
   "metadata": {},
   "source": [
    "**Diferentes invocaciones**"
   ]
  },
  {
   "cell_type": "code",
   "execution_count": 17,
   "metadata": {},
   "outputs": [
    {
     "data": {
      "text/plain": [
       "0"
      ]
     },
     "execution_count": 17,
     "metadata": {},
     "output_type": "execute_result"
    }
   ],
   "source": [
    "suma()"
   ]
  },
  {
   "cell_type": "code",
   "execution_count": 18,
   "metadata": {},
   "outputs": [
    {
     "data": {
      "text/plain": [
       "3"
      ]
     },
     "execution_count": 18,
     "metadata": {},
     "output_type": "execute_result"
    }
   ],
   "source": [
    "suma(3)"
   ]
  },
  {
   "cell_type": "code",
   "execution_count": 19,
   "metadata": {},
   "outputs": [
    {
     "data": {
      "text/plain": [
       "4"
      ]
     },
     "execution_count": 19,
     "metadata": {},
     "output_type": "execute_result"
    }
   ],
   "source": [
    "suma(1,3)"
   ]
  },
  {
   "cell_type": "code",
   "execution_count": 20,
   "metadata": {},
   "outputs": [
    {
     "data": {
      "text/plain": [
       "'aaabbb'"
      ]
     },
     "execution_count": 20,
     "metadata": {},
     "output_type": "execute_result"
    }
   ],
   "source": [
    "suma(\"aaa\", \"bbb\")"
   ]
  },
  {
   "cell_type": "code",
   "execution_count": 21,
   "metadata": {},
   "outputs": [
    {
     "data": {
      "text/plain": [
       "'bbbaaa'"
      ]
     },
     "execution_count": 21,
     "metadata": {},
     "output_type": "execute_result"
    }
   ],
   "source": [
    "suma(p2=\"aaa\", p1=\"bbb\")"
   ]
  },
  {
   "cell_type": "code",
   "execution_count": 22,
   "metadata": {},
   "outputs": [
    {
     "data": {
      "text/plain": [
       "4"
      ]
     },
     "execution_count": 22,
     "metadata": {},
     "output_type": "execute_result"
    }
   ],
   "source": [
    "suma(p2 = 4)"
   ]
  },
  {
   "cell_type": "code",
   "execution_count": 23,
   "metadata": {},
   "outputs": [
    {
     "data": {
      "text/plain": [
       "1"
      ]
     },
     "execution_count": 23,
     "metadata": {},
     "output_type": "execute_result"
    }
   ],
   "source": [
    "suma(p1 = 4, p2 = -3)"
   ]
  },
  {
   "cell_type": "markdown",
   "metadata": {},
   "source": [
    "## Captura de Múltiples Argumentos Posicionales (`*args`)\n",
    "\n",
    "En Python, puedes crear funciones que acepten un número variable de argumentos posicionales. Esto es muy similar al concepto de *varargs* (argumentos variables) en Java (`String... args`) o C++. La sintaxis en Python es simple y elegante: se antepone un asterisco (`*`) al nombre del parámetro.\n",
    "\n",
    "Por convención, se utiliza el nombre `args` (abreviatura de \"arguments\"), pero podría ser cualquier nombre válido.\n",
    "\n",
    "### ¿Cómo funciona?\n",
    "\n",
    "Cuando invocas la función, todos los argumentos posicionales adicionales que pases se empaquetarán automáticamente en una **tupla**. Luego, puedes iterar sobre esa tupla o aplicarle funciones como `sum()`, `len()`, `min()`, `max()`, etc.\n",
    "\n",
    "### Reglas y Buenas Prácticas:\n",
    "\n",
    "1.  **Posición**: El parámetro `*args` debe ir **después** de todos los parámetros posicionales normales.\n",
    "2.  **Claridad**: Es ideal para funciones donde la operación se aplica de manera uniforme a todos los argumentos, como calcular un promedio, una suma o encontrar un máximo.\n",
    "3.  **Type Hinting**: Para anotar el tipo de `*args`, puedes usar `*args: tipo`. Por ejemplo, `*args: float` indica que esperas una secuencia de números de punto flotante.\n",
    "\n",
    "A continuación, se refactoriza la función `promedio` para que sea más robusta y clara, demostrando el poder de `*args`.\n"
   ]
  },
  {
   "cell_type": "code",
   "execution_count": 24,
   "metadata": {},
   "outputs": [],
   "source": [
    "def promedio(*muestras):\n",
    "    '''Calcula el promedio de la muestra correspondiente a todos los parámetros ingresados.'''\n",
    "    promedio = sum(muestras)/len(muestras)\n",
    "    print('El promedio de la muestra de %d elementos es %.3f.' %(len(muestras), promedio))"
   ]
  },
  {
   "cell_type": "code",
   "execution_count": 25,
   "metadata": {},
   "outputs": [
    {
     "name": "stdout",
     "output_type": "stream",
     "text": [
      "El promedio de la muestra de 8 elementos es 21.375.\n"
     ]
    }
   ],
   "source": [
    "promedio(1, 3, 5, 8, 11, 24, 90, 29)"
   ]
  },
  {
   "cell_type": "code",
   "execution_count": 26,
   "metadata": {},
   "outputs": [
    {
     "name": "stdout",
     "output_type": "stream",
     "text": [
      "El promedio de la muestra de 3 elementos es 17.667.\n"
     ]
    }
   ],
   "source": [
    "promedio(14, 38, 1)"
   ]
  },
  {
   "cell_type": "markdown",
   "metadata": {},
   "source": [
    "Cuando la función tiene varios parametros; el parámetro que recibe más de un argumento debe definirse al final de la lista de parámetros."
   ]
  },
  {
   "cell_type": "code",
   "execution_count": 27,
   "metadata": {},
   "outputs": [],
   "source": [
    "def promedio(titulo, *muestras):\n",
    "    '''Calcula el promedio de la muestra correspondiente a todos los parámetros ingresados con excepción\n",
    "       del primero, el cual será utilizado como título.'''\n",
    "    promedio = sum(muestras)/len(muestras)\n",
    "    print(titulo)\n",
    "    print('El promedio de la muestra de %d elementos es %.3f.' %(len(muestras), promedio))"
   ]
  },
  {
   "cell_type": "code",
   "execution_count": 28,
   "metadata": {},
   "outputs": [
    {
     "name": "stdout",
     "output_type": "stream",
     "text": [
      "Conteo de abejas en campo.\n",
      "El promedio de la muestra de 7 elementos es 43.286.\n"
     ]
    }
   ],
   "source": [
    "promedio('Conteo de abejas en campo.', 34, 45, 61, 23, 47, 41, 52)"
   ]
  },
  {
   "cell_type": "code",
   "execution_count": 29,
   "metadata": {},
   "outputs": [
    {
     "name": "stdout",
     "output_type": "stream",
     "text": [
      "1\n",
      "El promedio de la muestra de 7 elementos es 24.286.\n"
     ]
    }
   ],
   "source": [
    "promedio(1, 3, 5, 8, 11, 24, 90, 29)"
   ]
  },
  {
   "cell_type": "markdown",
   "metadata": {},
   "source": [
    "## Captura de Argumentos por Palabra Clave (`**kwargs`)\n",
    "\n",
    "Así como `*args` captura un número variable de argumentos posicionales, Python ofrece una sintaxis para capturar un número indeterminado de **argumentos por palabra clave** (keyword arguments). Esto se logra anteponiendo un doble asterisco (`**`) al nombre de un parámetro.\n",
    "\n",
    "Por convención, se utiliza el nombre `kwargs` (abreviatura de \"keyword arguments\").\n",
    "\n",
    "### ¿Cómo funciona?\n",
    "\n",
    "Cuando invocas una función con argumentos de la forma `nombre=valor` que no coinciden con ningún parámetro definido explícitamente, Python los empaqueta todos en un **diccionario**. La clave del diccionario es el nombre del argumento (como un string) y el valor es el valor que le asignaste.\n",
    "\n",
    "Esto es extremadamente útil para crear funciones altamente flexibles y configurables, permitiendo al usuario pasar un conjunto de opciones sin necesidad de definir un parámetro para cada una.\n",
    "\n",
    "### Reglas y Buenas Prácticas:\n",
    "\n",
    "1.  **Posición**: El parámetro `**kwargs` debe ser **el último** en la firma de la función, después de los parámetros posicionales y de `*args`. El orden es: `posicionales`, `*args`, `**kwargs`.\n",
    "2.  **Acceso Seguro**: Dado que `**kwargs` es un diccionario, intentar acceder a una clave que no fue proporcionada (`kwargs['clave_inexistente']`) resultará en un `KeyError`. Una práctica segura es usar el método `.get('clave', valor_por_defecto)`, que devuelve `None` o un valor por defecto si la clave no existe, evitando que el programa se detenga.\n",
    "3.  **Casos de Uso**: `**kwargs` es ideal para pasar opciones de configuración, atributos de un objeto, o para crear *wrappers* y decoradores que necesitan reenviar argumentos a otra función.\n",
    "\n",
    "El siguiente ejemplo de la función `superficie` se puede mejorar significativamente aplicando estas prácticas para hacerlo más robusto y \"Pythónico\"."
   ]
  },
  {
   "cell_type": "code",
   "execution_count": 30,
   "metadata": {},
   "outputs": [],
   "source": [
    "def superficie(**dato):\n",
    "    '''Calcula la superficie de una figura geométrica si los parámetros  ingresados\n",
    "       coinciden.'''\n",
    "    print(dato)\n",
    "    if dato[\"tipo\"] == \"Rectángulo\":\n",
    "        superficie = float(dato[\"base\"]) * float(dato[\"altura\"])\n",
    "    elif dato[\"tipo\"] == \"Triángulo\":\n",
    "        superficie = float(dato[\"base\"]) * float(dato[\"altura\"]) / 2\n",
    "    elif dato[\"tipo\"] == \"Círculo\":\n",
    "        superficie = float(dato[\"radio\"]) ** 2 * 3.14259265\n",
    "    else:\n",
    "        print(\"No puedo calcular la superficie.\")\n",
    "        superficie = \"indefinido\"\n",
    "    print(\"La superficie del %s es de %s\" % (dato[\"tipo\"].lower(), superficie))"
   ]
  },
  {
   "cell_type": "code",
   "execution_count": 31,
   "metadata": {},
   "outputs": [
    {
     "name": "stdout",
     "output_type": "stream",
     "text": [
      "{'base': 22, 'altura': 30, 'tipo': 'Rectángulo'}\n",
      "La superficie del rectángulo es de 660.0\n"
     ]
    }
   ],
   "source": [
    "superficie(base=22, altura=30, tipo=\"Rectángulo\")"
   ]
  },
  {
   "cell_type": "code",
   "execution_count": 32,
   "metadata": {},
   "outputs": [
    {
     "name": "stdout",
     "output_type": "stream",
     "text": [
      "{'tipo': 'Círculo', 'radio': 35}\n",
      "La superficie del círculo es de 3849.67599625\n"
     ]
    }
   ],
   "source": [
    "superficie(tipo=\"Círculo\", radio = 35)"
   ]
  },
  {
   "cell_type": "code",
   "execution_count": 33,
   "metadata": {},
   "outputs": [
    {
     "name": "stdout",
     "output_type": "stream",
     "text": [
      "{'base': 22, 'altura': 30, 'tipo': 'Rombo'}\n",
      "No puedo calcular la superficie.\n",
      "La superficie del rombo es de indefinido\n"
     ]
    }
   ],
   "source": [
    "superficie(base=22, altura=30, tipo=\"Rombo\")"
   ]
  },
  {
   "cell_type": "code",
   "execution_count": 34,
   "metadata": {},
   "outputs": [
    {
     "name": "stdout",
     "output_type": "stream",
     "text": [
      "{'base': 22, 'altura': 30, 'tipo': 'Rectángulo', 'radio': 6}\n",
      "La superficie del rectángulo es de 660.0\n"
     ]
    }
   ],
   "source": [
    "superficie(base=22, altura=30, tipo=\"Rectángulo\", radio=6)"
   ]
  },
  {
   "cell_type": "markdown",
   "metadata": {},
   "source": [
    "## Funciones anidadas\n",
    "\n",
    "En Python, puedes definir una función dentro de otra. A estas se les conoce como **funciones anidadas**.\n",
    "\n",
    "Esta capacidad no es solo una cuestión de organización. Las funciones anidadas tienen una propiedad muy poderosa: pueden acceder a las variables del ámbito de la función que las contiene (el *enclosing scope*). Este concepto se conoce como **cierre léxico** o *lexical closure*.\n",
    "\n",
    "### ¿Por qué usar funciones anidadas?\n",
    "\n",
    "1.  **Encapsulación y Ocultación de Lógica**: Son perfectas para crear funciones auxiliares (*helper functions*) que solo tienen sentido en el contexto de la función principal. De esta manera, evitas contaminar el espacio de nombres global con funciones que no serán utilizadas en ningún otro lugar.\n",
    "2.  **Creación de Factorías de Funciones**: Como veremos más adelante en \"Funciones de Orden Superior\", las funciones anidadas son la base para crear funciones que generan y devuelven otras funciones configuradas (patrón de factoría).\n",
    "\n",
    "El siguiente ejemplo, `lista_primos`, utiliza una función anidada `es_primo` para encapsular la lógica de validación. Observa cómo `es_primo` tiene acceso a la variable `lista` de la función externa `lista_primos`.\n"
   ]
  },
  {
   "cell_type": "code",
   "execution_count": 35,
   "metadata": {},
   "outputs": [],
   "source": [
    "def lista_primos(limite=100):\n",
    "    '''Genera una lista de los números primos comprendidos entre el 2 y el valor de limite.'''\n",
    "    #La lista inicia con el número 2\n",
    "    lista = [2]\n",
    "   \n",
    "    def esprimo(numero):\n",
    "        '''Valida si numero es divisible entre algún elemento de lista. De ocurrir, \n",
    "        regresa False. De lo contrario, regresa True.'''\n",
    "        for primo in lista:\n",
    "            if numero % primo == 0:\n",
    "                return False\n",
    "        return True\n",
    "    \n",
    "    #Se realizará una iteración de cada número entero desde 3 hasta el valor de limite.\n",
    "    for numero in range(3, limite + 1):\n",
    "        #Si esprimo(numero) regresa True, añade el valor de numero a lista\n",
    "        if esprimo(numero):\n",
    "            lista.append(numero)\n",
    "    return lista"
   ]
  },
  {
   "cell_type": "code",
   "execution_count": 36,
   "metadata": {},
   "outputs": [
    {
     "data": {
      "text/plain": [
       "[2, 3, 5, 7]"
      ]
     },
     "execution_count": 36,
     "metadata": {},
     "output_type": "execute_result"
    }
   ],
   "source": [
    "lista_primos(10)\n"
   ]
  },
  {
   "cell_type": "markdown",
   "metadata": {},
   "source": [
    "## Funciones de Orden Superior\n",
    "\n",
    "Este es uno de los conceptos más poderosos de Python y un pilar de la programación funcional. Se deriva directamente del hecho de que en Python, las funciones son **objetos de primera clase**. Esto significa que una función puede ser tratada como cualquier otro dato:\n",
    "*   Puede ser asignada a una variable.\n",
    "*   Puede ser almacenada en una estructura de datos (como una lista o un diccionario).\n",
    "*   Puede ser pasada como argumento a otra función.\n",
    "*   Puede ser retornada por otra función.\n",
    "\n",
    "Una **función de orden superior** es simplemente una función que hace al menos una de estas dos últimas cosas:\n",
    "1.  Recibe otra función como argumento.\n",
    "2.  Retorna una función como resultado.\n",
    "\n",
    "Este patrón permite crear código increíblemente flexible y reutilizable. En lugar de codificar una lógica fija, puedes \"inyectar\" el comportamiento que deseas a través de una función.\n",
    "\n",
    "### Patrón de Factoría (Factory Pattern)\n",
    "\n",
    "El ejemplo a continuación demuestra un patrón común llamado **factoría de funciones**. La función `html` no ejecuta una acción directamente; en su lugar, actúa como una \"fábrica\" que toma una función (`funcion`) como \"materia prima\" y produce una nueva función (`empaqueta`) que ya viene configurada y lista para usar.\n"
   ]
  },
  {
   "cell_type": "code",
   "execution_count": 37,
   "metadata": {},
   "outputs": [],
   "source": [
    "def html(funcion):\n",
    "    '''Añade las etiquetas básicas de un documento HTML5 al elemento \n",
    "       resultante del argumento funcion.'''\n",
    "    etiquetas = \"<html>\\n  <head>\\n    <title>Página</title>\\n  </head>\\n  <body>\\n    {}\\n  </body>\\n</html>\"\n",
    "   \n",
    "\n",
    "    def empaqueta(texto):\n",
    "        '''Permite encerrar entre etiquetas de HTML5 al resultado de funcion(texto).'''\n",
    "        return etiquetas.format(funcion(texto))\n",
    "    \n",
    "    \n",
    "    return empaqueta"
   ]
  },
  {
   "cell_type": "code",
   "execution_count": 38,
   "metadata": {},
   "outputs": [
    {
     "name": "stdout",
     "output_type": "stream",
     "text": [
      "Help on function html in module __main__:\n",
      "\n",
      "html(funcion)\n",
      "    Añade las etiquetas básicas de un documento HTML5 al elemento\n",
      "    resultante del argumento funcion.\n",
      "\n"
     ]
    }
   ],
   "source": [
    "help(html)"
   ]
  },
  {
   "cell_type": "code",
   "execution_count": 39,
   "metadata": {},
   "outputs": [],
   "source": [
    "def parrafo(texto):\n",
    "    '''Encierra entre las etiquetas de párrafo al elemento texto.'''\n",
    "    return '<p>' + str(texto) + '</p>'"
   ]
  },
  {
   "cell_type": "code",
   "execution_count": 40,
   "metadata": {},
   "outputs": [
    {
     "name": "stdout",
     "output_type": "stream",
     "text": [
      "<p>Hola, Mundo.</p>\n"
     ]
    }
   ],
   "source": [
    "print(parrafo('Hola, Mundo.'))"
   ]
  },
  {
   "cell_type": "code",
   "execution_count": 41,
   "metadata": {},
   "outputs": [
    {
     "name": "stdout",
     "output_type": "stream",
     "text": [
      "Help on function parrafo in module __main__:\n",
      "\n",
      "parrafo(texto)\n",
      "    Encierra entre las etiquetas de párrafo al elemento texto.\n",
      "\n"
     ]
    }
   ],
   "source": [
    "help(parrafo)"
   ]
  },
  {
   "cell_type": "code",
   "execution_count": 42,
   "metadata": {},
   "outputs": [
    {
     "data": {
      "text/plain": [
       "<function __main__.html.<locals>.empaqueta(texto)>"
      ]
     },
     "execution_count": 42,
     "metadata": {},
     "output_type": "execute_result"
    }
   ],
   "source": [
    "html(parrafo)"
   ]
  },
  {
   "cell_type": "code",
   "execution_count": 43,
   "metadata": {},
   "outputs": [
    {
     "data": {
      "text/plain": [
       "'<html>\\n  <head>\\n    <title>Página</title>\\n  </head>\\n  <body>\\n    <p>Hola, Mundo.</p>\\n  </body>\\n</html>'"
      ]
     },
     "execution_count": 43,
     "metadata": {},
     "output_type": "execute_result"
    }
   ],
   "source": [
    "html(parrafo)('Hola, Mundo.')"
   ]
  },
  {
   "cell_type": "code",
   "execution_count": 44,
   "metadata": {},
   "outputs": [
    {
     "name": "stdout",
     "output_type": "stream",
     "text": [
      "<html>\n",
      "  <head>\n",
      "    <title>Página</title>\n",
      "  </head>\n",
      "  <body>\n",
      "    <p>Hola, Mundo.</p>\n",
      "  </body>\n",
      "</html>\n"
     ]
    }
   ],
   "source": [
    "print(html(parrafo)('Hola, Mundo.'))"
   ]
  },
  {
   "cell_type": "code",
   "execution_count": 45,
   "metadata": {},
   "outputs": [
    {
     "name": "stdout",
     "output_type": "stream",
     "text": [
      "Help on function empaqueta in module __main__:\n",
      "\n",
      "empaqueta(texto)\n",
      "    Permite encerrar entre etiquetas de HTML5 al resultado de funcion(texto).\n",
      "\n"
     ]
    }
   ],
   "source": [
    "help(html(parrafo))"
   ]
  },
  {
   "cell_type": "markdown",
   "metadata": {},
   "source": [
    "## Decoradores\n",
    "\n",
    "Los decoradores son una de las características más potentes y elegantes de Python. Piensa en ellos como \"envolturas\" que puedes poner alrededor de una función para modificar o extender su comportamiento sin cambiar su código original.\n",
    "\n",
    "En esencia, son una forma abreviada y legible (lo que se conoce como azúcar sintáctico) de aplicar una función a otra.\n",
    "\n",
    "Recordemos el patrón que vimos en la sección anterior:\n",
    "\n",
    "```python\n",
    "def parrafo(texto):\n",
    "    return '<p>' + str(texto) + '</p>'\n",
    "\n",
    "# Aplicamos la función de orden superior 'html'\n",
    "parrafo = html(parrafo)\n",
    "\n",
    "# Ahora 'parrafo' es la función 'empaqueta' decorada\n",
    "print(parrafo(\"Hola, Mundo.\"))\n"
   ]
  },
  {
   "cell_type": "code",
   "execution_count": 60,
   "metadata": {},
   "outputs": [],
   "source": [
    "def html(funcion):\n",
    "    '''Añade las etiquetas básicas de un documento HTML5 al elemento \n",
    "       resultante del argumento funcion.'''\n",
    "    etiquetas = \"<html>\\n  <head>\\n    <title>Página</title>\\n  </head>\\n  <body>\\n    {}\\n  </body>\\n</html>\"\n",
    "    def empaqueta(texto):\n",
    "        '''Permite encerrar entre etiquetas de HTML5 al resultado de funcion(texto).'''\n",
    "        return etiquetas.format(funcion(texto))\n",
    "    return empaqueta"
   ]
  },
  {
   "cell_type": "code",
   "execution_count": 61,
   "metadata": {},
   "outputs": [],
   "source": [
    "@html\n",
    "def parrafo(texto):\n",
    "    '''Encierra entre las etiquetas de párrafo al elemento texto.'''\n",
    "    return '<p>' + str(texto) + '</p>'"
   ]
  },
  {
   "cell_type": "code",
   "execution_count": 62,
   "metadata": {},
   "outputs": [
    {
     "data": {
      "text/plain": [
       "<function __main__.html.<locals>.empaqueta(texto)>"
      ]
     },
     "execution_count": 62,
     "metadata": {},
     "output_type": "execute_result"
    }
   ],
   "source": [
    "parrafo"
   ]
  },
  {
   "cell_type": "code",
   "execution_count": 63,
   "metadata": {},
   "outputs": [
    {
     "name": "stdout",
     "output_type": "stream",
     "text": [
      "<html>\n",
      "  <head>\n",
      "    <title>Página</title>\n",
      "  </head>\n",
      "  <body>\n",
      "    <p>Hola, Mundo.</p>\n",
      "  </body>\n",
      "</html>\n"
     ]
    }
   ],
   "source": [
    "print(parrafo(\"Hola, Mundo.\"))"
   ]
  },
  {
   "cell_type": "code",
   "execution_count": 64,
   "metadata": {},
   "outputs": [
    {
     "name": "stdout",
     "output_type": "stream",
     "text": [
      "Help on function empaqueta in module __main__:\n",
      "\n",
      "empaqueta(texto)\n",
      "    Permite encerrar entre etiquetas de HTML5 al resultado de funcion(texto).\n",
      "\n"
     ]
    }
   ],
   "source": [
    "help(parrafo)"
   ]
  },
  {
   "cell_type": "markdown",
   "metadata": {},
   "source": [
    "## Definición de funciones con la declaración lambda\n",
    "\n",
    "Python ofrece una forma concisa de crear funciones simples y de un solo uso con la palabra clave `lambda`. A estas se les conoce como **funciones anónimas** porque no necesitan un nombre formal como las que se definen con `def`.\n",
    "\n",
    "Piensa en una función lambda como un \"**atajo**\" o una \"**receta rápida**\": hace una sola cosa, es anónima y la escribes justo donde la necesitas.\n",
    "\n",
    "**Sintaxis**\n",
    "\n",
    "La estructura de una función `lambda` es siempre:\n",
    "\n",
    "```python\n",
    "lambda parámetros: expresión\n",
    "```\n",
    "\n",
    "Donde:\n",
    "* **`lambda`**: La palabra clave que inicia la función anónima.\n",
    "* **parámetros**: Los argumentos que recibe la función, separados por comas (igual que en una función `def`).\n",
    "* **Dos puntos `:`** Separa los parámetros de la operación a realizar.\n",
    "* **expresión**: Una única operación o expresión que es evaluada y cuyo resultado es devuelto automáticamente. No se usa return.\n",
    "\n",
    "### Ejemplo: `def` vs `lambda`\n",
    "\n",
    "Veamos la diferencia entre una función normal y su equivalente `lambda`. Ambas hacen exactamente lo mismo.\n",
    "\n",
    "* **Función tradicional con `def`**:\n",
    "  \n",
    "  ```python\n",
    "  def sumar(a, b):\n",
    "    return a + b\n",
    "\n",
    "  print(sumar(5, 3))\n",
    "  # Salida: 8\n",
    "  ```\n",
    "\n",
    "* **Función como `lambda`**:\n",
    "  \n",
    "  ```python\n",
    "  sumar_lambda = lambda a, b: a + b\n",
    "\n",
    "  # La invocacion es igual\n",
    "  print(sumar_lambda(5, 3))\n",
    "  # Salida: 8\n",
    "  ```\n",
    "\n",
    "Para nombrar y reutilizar una función lambda, se utiliza el operador de asignación (`=`), como se ve en el ejemplo. Sin embargo, su principal poder reside en usarlas sin nombre.\n"
   ]
  },
  {
   "cell_type": "code",
   "execution_count": 65,
   "metadata": {},
   "outputs": [],
   "source": [
    "saluda = lambda texto='extraño', ancho=50: 'Hola, {}.'.format(texto).center(ancho)"
   ]
  },
  {
   "cell_type": "code",
   "execution_count": 66,
   "metadata": {},
   "outputs": [
    {
     "data": {
      "text/plain": [
       "function"
      ]
     },
     "execution_count": 66,
     "metadata": {},
     "output_type": "execute_result"
    }
   ],
   "source": [
    "type(saluda)"
   ]
  },
  {
   "cell_type": "code",
   "execution_count": 67,
   "metadata": {},
   "outputs": [
    {
     "data": {
      "text/plain": [
       "'                  Hola, extraño.                  '"
      ]
     },
     "execution_count": 67,
     "metadata": {},
     "output_type": "execute_result"
    }
   ],
   "source": [
    "saluda()"
   ]
  },
  {
   "cell_type": "code",
   "execution_count": 68,
   "metadata": {},
   "outputs": [
    {
     "data": {
      "text/plain": [
       "'    Hola, Mundo.    '"
      ]
     },
     "execution_count": 68,
     "metadata": {},
     "output_type": "execute_result"
    }
   ],
   "source": [
    "saluda('Mundo', 20)"
   ]
  },
  {
   "cell_type": "markdown",
   "metadata": {},
   "source": [
    "### ¿Cuándo usar Lambdas?\n",
    "\n",
    "Las funciones `lambda` son ideales cuando necesitas una función sencilla por un corto tiempo, especialmente como argumento para funciones de orden superior como `map()`, `filter()` y `sorted()`.\n",
    "\n",
    "**Ejemplo con sorted()**: Ordenar una lista de tuplas por su segundo elemento.\n"
   ]
  },
  {
   "cell_type": "code",
   "execution_count": 69,
   "metadata": {},
   "outputs": [
    {
     "name": "stdout",
     "output_type": "stream",
     "text": [
      "[(3, 2), (1, 5), (5, 8)]\n"
     ]
    }
   ],
   "source": [
    "coordenadas = [(1, 5), (3, 2), (5, 8)]\n",
    "\n",
    "# Usamos una lambda como clave para ordenar\n",
    "coordenadas_ordenadas = sorted(coordenadas, key=lambda punto: punto[1])\n",
    "\n",
    "print(coordenadas_ordenadas)\n",
    "# Salida: [(3, 2), (1, 5), (5, 8)]"
   ]
  },
  {
   "cell_type": "markdown",
   "metadata": {},
   "source": [
    "Como se muestra en el ejemplo anterior, usar una `lambda` aquí es mucho más directo que definir una función completa solo para esta línea."
   ]
  },
  {
   "cell_type": "markdown",
   "metadata": {},
   "source": [
    "### Funciones lambda con estructuras if - else ###\n",
    "\n",
    "Las funciones lambda permiten incluir condicionales dentro de su sintaxis de la siguiente forma:\n",
    "\n",
    "```\n",
    "lambda <parámetros>: <expresion_1> if <condición> else <expresión_2>\n",
    "```\n",
    "\n",
    "**Ejemplo**:\n",
    "\n",
    "**es_par** es una función que valida si un número entero ingresado como parámetro es par."
   ]
  },
  {
   "cell_type": "code",
   "execution_count": 66,
   "metadata": {},
   "outputs": [],
   "source": [
    "es_par = lambda numero: True if numero%2 == 0 else False"
   ]
  },
  {
   "cell_type": "code",
   "execution_count": 67,
   "metadata": {},
   "outputs": [
    {
     "data": {
      "text/plain": [
       "True"
      ]
     },
     "execution_count": 67,
     "metadata": {},
     "output_type": "execute_result"
    }
   ],
   "source": [
    "es_par(2)"
   ]
  },
  {
   "cell_type": "code",
   "execution_count": 68,
   "metadata": {},
   "outputs": [
    {
     "data": {
      "text/plain": [
       "False"
      ]
     },
     "execution_count": 68,
     "metadata": {},
     "output_type": "execute_result"
    }
   ],
   "source": [
    "es_par(3)"
   ]
  },
  {
   "cell_type": "markdown",
   "metadata": {},
   "source": [
    "**Ejemplo**:\n",
    "\n",
    "Crear una función llamada factorial que calcule el factorial de un número mediante recursividad."
   ]
  },
  {
   "cell_type": "code",
   "execution_count": 69,
   "metadata": {},
   "outputs": [],
   "source": [
    "factorial = lambda numero: numero * factorial(numero - 1) if numero > 1 else 1"
   ]
  },
  {
   "cell_type": "code",
   "execution_count": 70,
   "metadata": {},
   "outputs": [
    {
     "data": {
      "text/plain": [
       "120"
      ]
     },
     "execution_count": 70,
     "metadata": {},
     "output_type": "execute_result"
    }
   ],
   "source": [
    "factorial(5)"
   ]
  }
 ],
 "metadata": {
  "kernelspec": {
   "display_name": "base",
   "language": "python",
   "name": "python3"
  },
  "language_info": {
   "codemirror_mode": {
    "name": "ipython",
    "version": 3
   },
   "file_extension": ".py",
   "mimetype": "text/x-python",
   "name": "python",
   "nbconvert_exporter": "python",
   "pygments_lexer": "ipython3",
   "version": "3.12.7"
  }
 },
 "nbformat": 4,
 "nbformat_minor": 2
}
